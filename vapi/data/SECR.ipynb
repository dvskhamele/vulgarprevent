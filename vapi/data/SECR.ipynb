{
 "cells": [
  {
   "cell_type": "code",
   "execution_count": 33,
   "metadata": {},
   "outputs": [],
   "source": [
    "import pandas as pd\n",
    "import numpy as np\n",
    "import nltk\n",
    "import string\n",
    "%matplotlib inline"
   ]
  },
  {
   "cell_type": "code",
   "execution_count": 34,
   "metadata": {},
   "outputs": [],
   "source": [
    "data = pd.read_csv('secretanas1.csv', encoding='latin-1', sep=',', error_bad_lines=False, index_col=False, dtype='unicode')"
   ]
  },
  {
   "cell_type": "code",
   "execution_count": 35,
   "metadata": {},
   "outputs": [],
   "source": [
    "maxval =1 \n",
    "data[\"flags\"]=data[\"flags\"].astype(int)\n",
    "data[\"flags\"]= data[\"flags\"].where(data[\"flags\"] <= maxval, maxval)"
   ]
  },
  {
   "cell_type": "code",
   "execution_count": 36,
   "metadata": {},
   "outputs": [],
   "source": [
    "minval =0 \n",
    "data[\"flags\"]= data[\"flags\"].where(data[\"flags\"] >= minval, minval)"
   ]
  },
  {
   "cell_type": "code",
   "execution_count": 37,
   "metadata": {},
   "outputs": [
    {
     "data": {
      "text/html": [
       "<div>\n",
       "<style scoped>\n",
       "    .dataframe tbody tr th:only-of-type {\n",
       "        vertical-align: middle;\n",
       "    }\n",
       "\n",
       "    .dataframe tbody tr th {\n",
       "        vertical-align: top;\n",
       "    }\n",
       "\n",
       "    .dataframe thead th {\n",
       "        text-align: right;\n",
       "    }\n",
       "</style>\n",
       "<table border=\"1\" class=\"dataframe\">\n",
       "  <thead>\n",
       "    <tr style=\"text-align: right;\">\n",
       "      <th></th>\n",
       "      <th>flags</th>\n",
       "      <th>cltxt01</th>\n",
       "      <th>Unnamed: 2</th>\n",
       "    </tr>\n",
       "  </thead>\n",
       "  <tbody>\n",
       "    <tr>\n",
       "      <th>1</th>\n",
       "      <td>0</td>\n",
       "      <td>Feeling Lonely</td>\n",
       "      <td>NaN</td>\n",
       "    </tr>\n",
       "    <tr>\n",
       "      <th>2</th>\n",
       "      <td>0</td>\n",
       "      <td>For the first tike in 2 years i felt happy an...</td>\n",
       "      <td>NaN</td>\n",
       "    </tr>\n",
       "    <tr>\n",
       "      <th>3</th>\n",
       "      <td>0</td>\n",
       "      <td>This the longest I've gone without sex in year...</td>\n",
       "      <td>NaN</td>\n",
       "    </tr>\n",
       "    <tr>\n",
       "      <th>4</th>\n",
       "      <td>0</td>\n",
       "      <td>Sometimes you just need a hug</td>\n",
       "      <td>NaN</td>\n",
       "    </tr>\n",
       "    <tr>\n",
       "      <th>5</th>\n",
       "      <td>0</td>\n",
       "      <td>'Being you is beautiful'</td>\n",
       "      <td>NaN</td>\n",
       "    </tr>\n",
       "    <tr>\n",
       "      <th>6</th>\n",
       "      <td>0</td>\n",
       "      <td>I always feel so anxious about the simple thin...</td>\n",
       "      <td>NaN</td>\n",
       "    </tr>\n",
       "    <tr>\n",
       "      <th>7</th>\n",
       "      <td>0</td>\n",
       "      <td>omfg I'm verified! this app is my life, I lite...</td>\n",
       "      <td>NaN</td>\n",
       "    </tr>\n",
       "    <tr>\n",
       "      <th>8</th>\n",
       "      <td>0</td>\n",
       "      <td>I saw you hug her today. Right in front of me ...</td>\n",
       "      <td>NaN</td>\n",
       "    </tr>\n",
       "    <tr>\n",
       "      <th>9</th>\n",
       "      <td>0</td>\n",
       "      <td>I know it's weird but I'm scared to do my hair...</td>\n",
       "      <td>NaN</td>\n",
       "    </tr>\n",
       "    <tr>\n",
       "      <th>10</th>\n",
       "      <td>1</td>\n",
       "      <td>Gosh your making me blush haha :) xxx</td>\n",
       "      <td>NaN</td>\n",
       "    </tr>\n",
       "    <tr>\n",
       "      <th>11</th>\n",
       "      <td>0</td>\n",
       "      <td>So many things are happening at once I can't d...</td>\n",
       "      <td>NaN</td>\n",
       "    </tr>\n",
       "    <tr>\n",
       "      <th>12</th>\n",
       "      <td>0</td>\n",
       "      <td>am really depressed but i still manage to seem...</td>\n",
       "      <td>NaN</td>\n",
       "    </tr>\n",
       "    <tr>\n",
       "      <th>13</th>\n",
       "      <td>0</td>\n",
       "      <td>I hate that me and my boyfriend hardly see eac...</td>\n",
       "      <td>NaN</td>\n",
       "    </tr>\n",
       "    <tr>\n",
       "      <th>14</th>\n",
       "      <td>0</td>\n",
       "      <td>When you try to put a fake smile on but your t...</td>\n",
       "      <td>NaN</td>\n",
       "    </tr>\n",
       "    <tr>\n",
       "      <th>15</th>\n",
       "      <td>0</td>\n",
       "      <td>I just wish sometimes that life could slow dow...</td>\n",
       "      <td>NaN</td>\n",
       "    </tr>\n",
       "    <tr>\n",
       "      <th>16</th>\n",
       "      <td>0</td>\n",
       "      <td>What do you do when you've let the love of you...</td>\n",
       "      <td>NaN</td>\n",
       "    </tr>\n",
       "    <tr>\n",
       "      <th>17</th>\n",
       "      <td>0</td>\n",
       "      <td>My boyfriend has to kiss another girl for a pe...</td>\n",
       "      <td>NaN</td>\n",
       "    </tr>\n",
       "    <tr>\n",
       "      <th>18</th>\n",
       "      <td>0</td>\n",
       "      <td>#Goal : Be yourself!</td>\n",
       "      <td>NaN</td>\n",
       "    </tr>\n",
       "    <tr>\n",
       "      <th>19</th>\n",
       "      <td>0</td>\n",
       "      <td>Sometimes i feel like i have no one</td>\n",
       "      <td>NaN</td>\n",
       "    </tr>\n",
       "    <tr>\n",
       "      <th>20</th>\n",
       "      <td>0</td>\n",
       "      <td>hey u yeah u ur looking hot as usaul ÈÇÈÇ</td>\n",
       "      <td>NaN</td>\n",
       "    </tr>\n",
       "    <tr>\n",
       "      <th>21</th>\n",
       "      <td>0</td>\n",
       "      <td>I hate seeing homeless people. =\\u0014</td>\n",
       "      <td>NaN</td>\n",
       "    </tr>\n",
       "    <tr>\n",
       "      <th>22</th>\n",
       "      <td>0</td>\n",
       "      <td>I'm always the friend who never gets a guy and...</td>\n",
       "      <td>NaN</td>\n",
       "    </tr>\n",
       "    <tr>\n",
       "      <th>23</th>\n",
       "      <td>0</td>\n",
       "      <td>I love drawing ",
       "_´Ù$$</td>\n",
       "      <td>NaN</td>\n",
       "    </tr>\n",
       "    <tr>\n",
       "      <th>24</th>\n",
       "      <td>0</td>\n",
       "      <td>So ill_",
       "</td>\n",
       "      <td>NaN</td>\n",
       "    </tr>\n",
       "    <tr>\n",
       "      <th>25</th>\n",
       "      <td>0</td>\n",
       "      <td>Can't stand the idea of having to say goodbye ...</td>\n",
       "      <td>NaN</td>\n",
       "    </tr>\n",
       "    <tr>\n",
       "      <th>26</th>\n",
       "      <td>0</td>\n",
       "      <td>My kitten is one of my main sources of happine...</td>\n",
       "      <td>NaN</td>\n",
       "    </tr>\n",
       "    <tr>\n",
       "      <th>27</th>\n",
       "      <td>0</td>\n",
       "      <td>It's 2am and I just finished an art project an...</td>\n",
       "      <td>NaN</td>\n",
       "    </tr>\n",
       "    <tr>\n",
       "      <th>28</th>\n",
       "      <td>0</td>\n",
       "      <td>No one is even trying to save me.. so why shou...</td>\n",
       "      <td>NaN</td>\n",
       "    </tr>\n",
       "    <tr>\n",
       "      <th>29</th>\n",
       "      <td>0</td>\n",
       "      <td>He's either hot or cold with me! And it's real...</td>\n",
       "      <td>NaN</td>\n",
       "    </tr>\n",
       "    <tr>\n",
       "      <th>30</th>\n",
       "      <td>0</td>\n",
       "      <td>My boyfriend has seasonal affective disorder a...</td>\n",
       "      <td>NaN</td>\n",
       "    </tr>\n",
       "    <tr>\n",
       "      <th>...</th>\n",
       "      <td>...</td>\n",
       "      <td>...</td>\n",
       "      <td>...</td>\n",
       "    </tr>\n",
       "    <tr>\n",
       "      <th>288970</th>\n",
       "      <td>0</td>\n",
       "      <td>these backgrounds are really confusing me,, ca...</td>\n",
       "      <td>NaN</td>\n",
       "    </tr>\n",
       "    <tr>\n",
       "      <th>288971</th>\n",
       "      <td>0</td>\n",
       "      <td>Verify me okay thanks</td>\n",
       "      <td>NaN</td>\n",
       "    </tr>\n",
       "    <tr>\n",
       "      <th>288972</th>\n",
       "      <td>0</td>\n",
       "      <td>IÈm a bloody mess I tell ya</td>\n",
       "      <td>NaN</td>\n",
       "    </tr>\n",
       "    <tr>\n",
       "      <th>288973</th>\n",
       "      <td>0</td>\n",
       "      <td>Why canÈt you chose these backgrounds</td>\n",
       "      <td>NaN</td>\n",
       "    </tr>\n",
       "    <tr>\n",
       "      <th>288974</th>\n",
       "      <td>0</td>\n",
       "      <td>Backgrounds</td>\n",
       "      <td>NaN</td>\n",
       "    </tr>\n",
       "    <tr>\n",
       "      <th>288975</th>\n",
       "      <td>0</td>\n",
       "      <td>I think I have general anxiety as I am soo anx...</td>\n",
       "      <td>NaN</td>\n",
       "    </tr>\n",
       "    <tr>\n",
       "      <th>288976</th>\n",
       "      <td>0</td>\n",
       "      <td>Back again. HavenÈt been on this since befor...</td>\n",
       "      <td>NaN</td>\n",
       "    </tr>\n",
       "    <tr>\n",
       "      <th>288977</th>\n",
       "      <td>0</td>\n",
       "      <td>Any tips on how to stop snacking? Thank you x</td>\n",
       "      <td>NaN</td>\n",
       "    </tr>\n",
       "    <tr>\n",
       "      <th>288978</th>\n",
       "      <td>1</td>\n",
       "      <td>Si hablAs espa±ol,, por favor env_ame un men...</td>\n",
       "      <td>NaN</td>\n",
       "    </tr>\n",
       "    <tr>\n",
       "      <th>288979</th>\n",
       "      <td>0</td>\n",
       "      <td>I read this article that told a story of a man...</td>\n",
       "      <td>NaN</td>\n",
       "    </tr>\n",
       "    <tr>\n",
       "      <th>288980</th>\n",
       "      <td>0</td>\n",
       "      <td>today was the first time in over 6 years that ...</td>\n",
       "      <td>NaN</td>\n",
       "    </tr>\n",
       "    <tr>\n",
       "      <th>288981</th>\n",
       "      <td>0</td>\n",
       "      <td>IÈm graduating this here and i donÈt know ...</td>\n",
       "      <td>NaN</td>\n",
       "    </tr>\n",
       "    <tr>\n",
       "      <th>288982</th>\n",
       "      <td>0</td>\n",
       "      <td>I love my friends but i canÈt like the same ...</td>\n",
       "      <td>NaN</td>\n",
       "    </tr>\n",
       "    <tr>\n",
       "      <th>288983</th>\n",
       "      <td>0</td>\n",
       "      <td>This app is such a relief</td>\n",
       "      <td>NaN</td>\n",
       "    </tr>\n",
       "    <tr>\n",
       "      <th>288984</th>\n",
       "      <td>0</td>\n",
       "      <td>IÈm so confused</td>\n",
       "      <td>NaN</td>\n",
       "    </tr>\n",
       "    <tr>\n",
       "      <th>288985</th>\n",
       "      <td>0</td>\n",
       "      <td>I donÈt know what to do</td>\n",
       "      <td>NaN</td>\n",
       "    </tr>\n",
       "    <tr>\n",
       "      <th>288986</th>\n",
       "      <td>0</td>\n",
       "      <td>Please donÈt go, IÈll eat you all, I love ...</td>\n",
       "      <td>NaN</td>\n",
       "    </tr>\n",
       "    <tr>\n",
       "      <th>288987</th>\n",
       "      <td>0</td>\n",
       "      <td>I still love him but I don't think he loves me...</td>\n",
       "      <td>NaN</td>\n",
       "    </tr>\n",
       "    <tr>\n",
       "      <th>288988</th>\n",
       "      <td>0</td>\n",
       "      <td>Everything is just one disappointment or failu...</td>\n",
       "      <td>NaN</td>\n",
       "    </tr>\n",
       "    <tr>\n",
       "      <th>288989</th>\n",
       "      <td>0</td>\n",
       "      <td>How often should you see your significant other ?</td>\n",
       "      <td>NaN</td>\n",
       "    </tr>\n",
       "    <tr>\n",
       "      <th>288990</th>\n",
       "      <td>0</td>\n",
       "      <td>He still gives me butterflies and my heart sti...</td>\n",
       "      <td>NaN</td>\n",
       "    </tr>\n",
       "    <tr>\n",
       "      <th>288991</th>\n",
       "      <td>0</td>\n",
       "      <td>I came back on this app but my secrets are lit...</td>\n",
       "      <td>NaN</td>\n",
       "    </tr>\n",
       "    <tr>\n",
       "      <th>288992</th>\n",
       "      <td>0</td>\n",
       "      <td>I love him more than I ever intended to</td>\n",
       "      <td>NaN</td>\n",
       "    </tr>\n",
       "    <tr>\n",
       "      <th>288993</th>\n",
       "      <td>0</td>\n",
       "      <td>He's the most handsome and most beautiful pers...</td>\n",
       "      <td>NaN</td>\n",
       "    </tr>\n",
       "    <tr>\n",
       "      <th>288994</th>\n",
       "      <td>0</td>\n",
       "      <td>He's the most handsomest and most beautiful pe...</td>\n",
       "      <td>NaN</td>\n",
       "    </tr>\n",
       "    <tr>\n",
       "      <th>288995</th>\n",
       "      <td>0</td>\n",
       "      <td>Thanks for ignoring my secrets I really apprec...</td>\n",
       "      <td>NaN</td>\n",
       "    </tr>\n",
       "    <tr>\n",
       "      <th>288996</th>\n",
       "      <td>0</td>\n",
       "      <td>feeling depressed about failing my driving test.</td>\n",
       "      <td>NaN</td>\n",
       "    </tr>\n",
       "    <tr>\n",
       "      <th>288997</th>\n",
       "      <td>0</td>\n",
       "      <td>I have frequent irrational, intrusive thoughts...</td>\n",
       "      <td>NaN</td>\n",
       "    </tr>\n",
       "    <tr>\n",
       "      <th>288998</th>\n",
       "      <td>0</td>\n",
       "      <td>life is what youu make it, so live, love and l...</td>\n",
       "      <td>NaN</td>\n",
       "    </tr>\n",
       "    <tr>\n",
       "      <th>288999</th>\n",
       "      <td>1</td>\n",
       "      <td>He looked so smart and so gorgeous and my mums...</td>\n",
       "      <td>NaN</td>\n",
       "    </tr>\n",
       "  </tbody>\n",
       "</table>\n",
       "<p>288999 rows × 3 columns</p>\n",
       "</div>"
      ],
      "text/plain": [
       "        flags                                            cltxt01 Unnamed: 2\n",
       "1           0                                     Feeling Lonely        NaN\n",
       "2           0   For the first tike in 2 years i felt happy an...        NaN\n",
       "3           0  This the longest I've gone without sex in year...        NaN\n",
       "4           0                      Sometimes you just need a hug        NaN\n",
       "5           0                           'Being you is beautiful'        NaN\n",
       "6           0  I always feel so anxious about the simple thin...        NaN\n",
       "7           0  omfg I'm verified! this app is my life, I lite...        NaN\n",
       "8           0  I saw you hug her today. Right in front of me ...        NaN\n",
       "9           0  I know it's weird but I'm scared to do my hair...        NaN\n",
       "10          1              Gosh your making me blush haha :) xxx        NaN\n",
       "11          0  So many things are happening at once I can't d...        NaN\n",
       "12          0  am really depressed but i still manage to seem...        NaN\n",
       "13          0  I hate that me and my boyfriend hardly see eac...        NaN\n",
       "14          0  When you try to put a fake smile on but your t...        NaN\n",
       "15          0  I just wish sometimes that life could slow dow...        NaN\n",
       "16          0  What do you do when you've let the love of you...        NaN\n",
       "17          0  My boyfriend has to kiss another girl for a pe...        NaN\n",
       "18          0                              #Goal : Be yourself!         NaN\n",
       "19          0                Sometimes i feel like i have no one        NaN\n",
       "20          0        hey u yeah u ur looking hot as usaul ÈÇÈÇ        NaN\n",
       "21          0            I hate seeing homeless people. =\\u0014         NaN\n",
       "22          0  I'm always the friend who never gets a guy and...        NaN\n",
       "23          0                            I love drawing \n",
       "_´Ù$$        NaN\n",
       "24          0                                         So ill_\n",
       "        NaN\n",
       "25          0  Can't stand the idea of having to say goodbye ...        NaN\n",
       "26          0  My kitten is one of my main sources of happine...        NaN\n",
       "27          0  It's 2am and I just finished an art project an...        NaN\n",
       "28          0  No one is even trying to save me.. so why shou...        NaN\n",
       "29          0  He's either hot or cold with me! And it's real...        NaN\n",
       "30          0  My boyfriend has seasonal affective disorder a...        NaN\n",
       "...       ...                                                ...        ...\n",
       "288970      0  these backgrounds are really confusing me,, ca...        NaN\n",
       "288971      0                              Verify me okay thanks        NaN\n",
       "288972      0                      IÈm a bloody mess I tell ya        NaN\n",
       "288973      0            Why canÈt you chose these backgrounds        NaN\n",
       "288974      0                                        Backgrounds        NaN\n",
       "288975      0  I think I have general anxiety as I am soo anx...        NaN\n",
       "288976      0  Back again. HavenÈt been on this since befor...        NaN\n",
       "288977      0      Any tips on how to stop snacking? Thank you x        NaN\n",
       "288978      1  Si hablAs espa±ol,, por favor env_ame un men...        NaN\n",
       "288979      0  I read this article that told a story of a man...        NaN\n",
       "288980      0  today was the first time in over 6 years that ...        NaN\n",
       "288981      0  IÈm graduating this here and i donÈt know ...        NaN\n",
       "288982      0  I love my friends but i canÈt like the same ...        NaN\n",
       "288983      0                          This app is such a relief        NaN\n",
       "288984      0                                  IÈm so confused        NaN\n",
       "288985      0                          I donÈt know what to do        NaN\n",
       "288986      0  Please donÈt go, IÈll eat you all, I love ...        NaN\n",
       "288987      0  I still love him but I don't think he loves me...        NaN\n",
       "288988      0  Everything is just one disappointment or failu...        NaN\n",
       "288989      0  How often should you see your significant other ?        NaN\n",
       "288990      0  He still gives me butterflies and my heart sti...        NaN\n",
       "288991      0  I came back on this app but my secrets are lit...        NaN\n",
       "288992      0            I love him more than I ever intended to        NaN\n",
       "288993      0  He's the most handsome and most beautiful pers...        NaN\n",
       "288994      0  He's the most handsomest and most beautiful pe...        NaN\n",
       "288995      0  Thanks for ignoring my secrets I really apprec...        NaN\n",
       "288996      0   feeling depressed about failing my driving test.        NaN\n",
       "288997      0  I have frequent irrational, intrusive thoughts...        NaN\n",
       "288998      0  life is what youu make it, so live, love and l...        NaN\n",
       "288999      1  He looked so smart and so gorgeous and my mums...        NaN\n",
       "\n",
       "[288999 rows x 3 columns]"
      ]
     },
     "execution_count": 37,
     "metadata": {},
     "output_type": "execute_result"
    }
   ],
   "source": [
    "data.drop(data.index[0])"
   ]
  },
  {
   "cell_type": "markdown",
   "metadata": {},
   "source": [
    "under sampling\n"
   ]
  },
  {
   "cell_type": "code",
   "execution_count": 38,
   "metadata": {},
   "outputs": [],
   "source": [
    "xs = data.iloc[:, data.columns != 'flags']\n",
    "ys = data.iloc[:, data.columns == 'flags']\n",
    "\n",
    "\n",
    "\n",
    "number_records_minor = len(data[data.flags == 1])\n",
    "minor_indices = np.array(data[data.flags == 1].index)\n",
    "\n",
    "\n",
    "normal_indices = data[data.flags == 0].index\n",
    "\n",
    "\n",
    "random_normal_indices = np.random.choice(normal_indices, number_records_minor, replace = False)\n",
    "random_normal_indices = np.array(random_normal_indices)\n",
    "\n",
    "\n",
    "under_sample_indices = np.concatenate([minor_indices,random_normal_indices])\n",
    "\n",
    "\n",
    "under_sample_data = data.iloc[under_sample_indices,:]\n",
    "\n",
    "X_undersample = under_sample_data.iloc[:, under_sample_data.columns != 'flags']\n",
    "y_undersample = under_sample_data.loc[:, under_sample_data.columns == 'flags']"
   ]
  },
  {
   "cell_type": "code",
   "execution_count": 39,
   "metadata": {},
   "outputs": [],
   "source": [
    "import string\n",
    "\n",
    "mess = 'Sample message! Notice: it has punctuation.'\n",
    "\n",
    "\n",
    "nopunc = [char for char in mess if char not in string.punctuation]\n",
    "\n",
    "\n",
    "nopunc = ''.join(nopunc)"
   ]
  },
  {
   "cell_type": "code",
   "execution_count": 40,
   "metadata": {},
   "outputs": [
    {
     "data": {
      "text/plain": [
       "['i', 'me', 'my', 'myself', 'we', 'our', 'ours', 'ourselves', 'you', \"you're\"]"
      ]
     },
     "execution_count": 40,
     "metadata": {},
     "output_type": "execute_result"
    }
   ],
   "source": [
    "from nltk.corpus import stopwords\n",
    "stopwords.words('english')[0:10] # Show some stop words"
   ]
  },
  {
   "cell_type": "code",
   "execution_count": 41,
   "metadata": {},
   "outputs": [
    {
     "data": {
      "text/plain": [
       "['Sample', 'message', 'Notice', 'it', 'has', 'punctuation']"
      ]
     },
     "execution_count": 41,
     "metadata": {},
     "output_type": "execute_result"
    }
   ],
   "source": [
    "nopunc.split()"
   ]
  },
  {
   "cell_type": "code",
   "execution_count": 42,
   "metadata": {},
   "outputs": [],
   "source": [
    "clean_mess = [word for word in nopunc.split() if word.lower() not in stopwords.words('english')]"
   ]
  },
  {
   "cell_type": "code",
   "execution_count": 43,
   "metadata": {},
   "outputs": [],
   "source": [
    "def processor(mess):\n",
    "   \n",
    "    nopunc = [char for char in mess if char not in string.punctuation]\n",
    "\n",
    " \n",
    "    nopunc = ''.join(nopunc)\n",
    "    \n",
    "   \n",
    "    return [word for word in nopunc.split() if word.lower() not in stopwords.words('english')]"
   ]
  },
  {
   "cell_type": "code",
   "execution_count": 44,
   "metadata": {},
   "outputs": [
    {
     "data": {
      "text/plain": [
       "['i', 'me', 'my', 'myself', 'we', 'our', 'ours', 'ourselves', 'you', \"you're\"]"
      ]
     },
     "execution_count": 44,
     "metadata": {},
     "output_type": "execute_result"
    }
   ],
   "source": [
    "from nltk.corpus import stopwords\n",
    "stopwords.words('english')[0:10] # Show some stop words"
   ]
  },
  {
   "cell_type": "code",
   "execution_count": 45,
   "metadata": {},
   "outputs": [],
   "source": [
    "pd.options.mode.chained_assignment = None\n",
    "under_sample_data[\"cltxt01\"] = under_sample_data[\"cltxt01\"].astype(str)"
   ]
  },
  {
   "cell_type": "code",
   "execution_count": 46,
   "metadata": {},
   "outputs": [
    {
     "data": {
      "text/plain": [
       "10                         [Gosh, making, blush, haha, xxx]\n",
       "53                                         [like, RoryÈê]\n",
       "103       [Go, follow, Instagram, inspiration, kxtielxuise]\n",
       "104       [whats, best, type, oil, cream, help, scars, f...\n",
       "144       [Person, hiding, scars, dont, scared, let, peo...\n",
       "145       [im, ment, getting, counseling, two, go, see, ...\n",
       "156                                        [Heart, biu000e]\n",
       "190       [mum, pressuring, lose, weight, Im, 59, 13, st...\n",
       "260                                                      []\n",
       "319                                          [best, couple]\n",
       "333                                                  [Fuck]\n",
       "339       [im, stupid, worthless, nobody, cares, even, b...\n",
       "351                 [Hug, Aussie, u0000u0001u0003u0004´è´è]\n",
       "384                                              [love, 12]\n",
       "414                                            [Kik, n, es]\n",
       "438                                    [Tate, Violet, ´è´è]\n",
       "446                           [WANT, KILL, YOU, , , ]\n",
       "449                    [hiii, 1240985, testing, dont, know]\n",
       "471                     [Anyone, want, talk, nkik, awais57]\n",
       "481       [TheShoulderToCryOn, Im, worried, finishing, c...\n",
       "497                                       [Anyone, ireland]\n",
       "512                                                [12er55]\n",
       "519                             [Follow, insta, ä, 1527am]\n",
       "555                                 [got, app, Heart, good]\n",
       "600       [Wanting, day, smoke, drink, eat, chocolate, m...\n",
       "670       [RIP, Caleb, Wyatt, miss, ´è, 220415, L´è, for...\n",
       "688                                      [Im, horny, right]\n",
       "723                                                    [Jj]\n",
       "781       [Really, Like, Someone, Closest, Friends, Says...\n",
       "790       [Lil, Mamas, song, Lipgloss, thou000eL´è´è, Wh...\n",
       "                                ...                        \n",
       "115671    [Constantly, paranoid, case, fuck, friendships...\n",
       "59988                             [way, smiles, , , wish]\n",
       "173696    [Officially, left, school, today, Cried, eyes,...\n",
       "129302    [æI, little, crush, hope, someone, like, not...\n",
       "164454                    [Think, might, anxiety, , dunno]\n",
       "229632    [dont, like, feeling, Emotional, feeling, alon...\n",
       "253673    [Please, dont, give, hate, really, want, anore...\n",
       "189574    [times, feel, like, everyone, hates, uses, can...\n",
       "1435                                          [Cant, sleep]\n",
       "46203     [need, advice, please, ex, asked, meet, explai...\n",
       "236165    [Doesnt, anyone, else, really, fucking, hate, ...\n",
       "228174    [want, feel, wanted, needed, someone, god, dam...\n",
       "198749               [people, need, understand, life, , ê]\n",
       "262268    [Mycrush, today, wasnt, school, thought, somet...\n",
       "77876                       [love, science, make, apologys]\n",
       "279077    [havent, substantial, meal, 7, days, never, fe...\n",
       "287792    [Ok, Im, skinny, people, always, saynNo, guy, ...\n",
       "245919    [Year, 10months, day, cant, wait, till, Feb, i...\n",
       "232423    [really, dont, know, feel, anymore, Im, always...\n",
       "224816                    [meant, im, glad, found, earlier]\n",
       "63982     [Im, uncomfortable, size, even, though, know, ...\n",
       "47154     [dad, work, nearly, 3, weeks, ill, lately, bec...\n",
       "132039                          [Fml, , , , , , , ]\n",
       "178040    [sees, people, spell, things, wrong, Facebook,...\n",
       "149625     [got, verified, yay, time, spread, love, ên]\n",
       "84200                 [could, going, school, today, ê, ê]\n",
       "225310    [go, make, fall, confusing, God, damn, much, d...\n",
       "65248     [tried, starting, convo, two, friends, seems, ...\n",
       "257972                               [come, chat, bored, ]\n",
       "226481    [Im, really, scared, Im, sitting, waiting, try...\n",
       "Name: cltxt01, Length: 18262, dtype: object"
      ]
     },
     "execution_count": 46,
     "metadata": {},
     "output_type": "execute_result"
    }
   ],
   "source": [
    "under_sample_data[\"cltxt01\"].apply(processor)"
   ]
  },
  {
   "cell_type": "code",
   "execution_count": 47,
   "metadata": {},
   "outputs": [],
   "source": [
    "from sklearn.feature_extraction.text import CountVectorizer"
   ]
  },
  {
   "cell_type": "code",
   "execution_count": 48,
   "metadata": {},
   "outputs": [
    {
     "name": "stdout",
     "output_type": "stream",
     "text": [
      "21212\n"
     ]
    }
   ],
   "source": [
    "bow_transformer = CountVectorizer(analyzer=processor).fit(under_sample_data[\"cltxt01\"])\n",
    "\n",
    "print(len(bow_transformer.vocabulary_))\n"
   ]
  },
  {
   "cell_type": "code",
   "execution_count": 49,
   "metadata": {},
   "outputs": [],
   "source": [
    "text_bow = bow_transformer.transform(under_sample_data[\"cltxt01\"])"
   ]
  },
  {
   "cell_type": "code",
   "execution_count": 50,
   "metadata": {},
   "outputs": [],
   "source": [
    "from sklearn.feature_extraction.text import TfidfTransformer\n",
    "\n",
    "tfidf_transformer = TfidfTransformer().fit(text_bow)"
   ]
  },
  {
   "cell_type": "code",
   "execution_count": 51,
   "metadata": {},
   "outputs": [],
   "source": [
    "tfidf4 = tfidf_transformer.transform(text_bow)"
   ]
  },
  {
   "cell_type": "code",
   "execution_count": 52,
   "metadata": {},
   "outputs": [],
   "source": [
    "from sklearn.svm import SVC\n",
    "#flag_detect_model = SVC().fit(tfidf4, under_sample_data[\"flags\"])"
   ]
  },
  {
   "cell_type": "code",
   "execution_count": 53,
   "metadata": {},
   "outputs": [],
   "source": [
    "#all_predictions = flag_detect_model.predict(tfidf4)\n",
    "#print(all_predictions)"
   ]
  },
  {
   "cell_type": "code",
   "execution_count": 54,
   "metadata": {},
   "outputs": [],
   "source": [
    "from sklearn.metrics import classification_report,precision_score"
   ]
  },
  {
   "cell_type": "code",
   "execution_count": null,
   "metadata": {},
   "outputs": [],
   "source": []
  },
  {
   "cell_type": "code",
   "execution_count": 55,
   "metadata": {},
   "outputs": [],
   "source": [
    "from sklearn.model_selection import train_test_split\n",
    "\n",
    "msg_train, msg_test, label_train, label_test = \\\n",
    "train_test_split(under_sample_data[\"cltxt01\"], under_sample_data[\"flags\"], test_size=0.2)\n"
   ]
  },
  {
   "cell_type": "code",
   "execution_count": 56,
   "metadata": {},
   "outputs": [],
   "source": [
    "from sklearn.pipeline import Pipeline\n",
    "\n",
    "pipeline = Pipeline([\n",
    "    ('bow', CountVectorizer(analyzer=processor)),  # strings to token integer counts\n",
    "    ('tfidf', TfidfTransformer()),  # integer counts to weighted TF-IDF scores\n",
    "    ('classifier', SVC()),  # train on TF-IDF vectors w/ support victor classifier\n",
    "])"
   ]
  },
  {
   "cell_type": "code",
   "execution_count": 57,
   "metadata": {},
   "outputs": [],
   "source": [
    "from sklearn.model_selection import GridSearchCV"
   ]
  },
  {
   "cell_type": "code",
   "execution_count": 58,
   "metadata": {},
   "outputs": [],
   "source": [
    "parameters = dict(classifier__C=[5,10,20,15],classifier__gamma=[1,0.01,0.1,0.05])"
   ]
  },
  {
   "cell_type": "code",
   "execution_count": 59,
   "metadata": {},
   "outputs": [],
   "source": [
    "grid = GridSearchCV(pipeline, verbose=3, param_grid=parameters ,scoring=\"accuracy\")"
   ]
  },
  {
   "cell_type": "code",
   "execution_count": 60,
   "metadata": {
    "scrolled": true
   },
   "outputs": [
    {
     "name": "stdout",
     "output_type": "stream",
     "text": [
      "Fitting 3 folds for each of 16 candidates, totalling 48 fits\n",
      "[CV] classifier__C=5, classifier__gamma=1 ............................\n",
      "[CV]  classifier__C=5, classifier__gamma=1, score=0.7462012320328542, total= 1.4min\n",
      "[CV] classifier__C=5, classifier__gamma=1 ............................\n"
     ]
    },
    {
     "name": "stderr",
     "output_type": "stream",
     "text": [
      "[Parallel(n_jobs=1)]: Done   1 out of   1 | elapsed:  2.0min remaining:    0.0s\n"
     ]
    },
    {
     "name": "stdout",
     "output_type": "stream",
     "text": [
      "[CV]  classifier__C=5, classifier__gamma=1, score=0.7595482546201232, total= 1.4min\n",
      "[CV] classifier__C=5, classifier__gamma=1 ............................\n"
     ]
    },
    {
     "name": "stderr",
     "output_type": "stream",
     "text": [
      "[Parallel(n_jobs=1)]: Done   2 out of   2 | elapsed:  3.9min remaining:    0.0s\n"
     ]
    },
    {
     "name": "stdout",
     "output_type": "stream",
     "text": [
      "[CV]  classifier__C=5, classifier__gamma=1, score=0.756007393715342, total= 1.4min\n",
      "[CV] classifier__C=5, classifier__gamma=0.01 .........................\n",
      "[CV]  classifier__C=5, classifier__gamma=0.01, score=0.7127310061601643, total=  58.3s\n",
      "[CV] classifier__C=5, classifier__gamma=0.01 .........................\n",
      "[CV]  classifier__C=5, classifier__gamma=0.01, score=0.7283367556468172, total=  58.3s\n",
      "[CV] classifier__C=5, classifier__gamma=0.01 .........................\n",
      "[CV]  classifier__C=5, classifier__gamma=0.01, score=0.7243787225302937, total=  58.0s\n",
      "[CV] classifier__C=5, classifier__gamma=0.1 ..........................\n",
      "[CV]  classifier__C=5, classifier__gamma=0.1, score=0.7472279260780288, total=  55.5s\n",
      "[CV] classifier__C=5, classifier__gamma=0.1 ..........................\n",
      "[CV]  classifier__C=5, classifier__gamma=0.1, score=0.762012320328542, total=  55.6s\n",
      "[CV] classifier__C=5, classifier__gamma=0.1 ..........................\n",
      "[CV]  classifier__C=5, classifier__gamma=0.1, score=0.7443006777572396, total=  56.0s\n",
      "[CV] classifier__C=5, classifier__gamma=0.05 .........................\n",
      "[CV]  classifier__C=5, classifier__gamma=0.05, score=0.737577002053388, total=  55.1s\n",
      "[CV] classifier__C=5, classifier__gamma=0.05 .........................\n",
      "[CV]  classifier__C=5, classifier__gamma=0.05, score=0.7558521560574949, total=  55.1s\n",
      "[CV] classifier__C=5, classifier__gamma=0.05 .........................\n",
      "[CV]  classifier__C=5, classifier__gamma=0.05, score=0.7459437256110084, total=  55.9s\n",
      "[CV] classifier__C=10, classifier__gamma=1 ...........................\n",
      "[CV]  classifier__C=10, classifier__gamma=1, score=0.7482546201232033, total= 1.3min\n",
      "[CV] classifier__C=10, classifier__gamma=1 ...........................\n",
      "[CV]  classifier__C=10, classifier__gamma=1, score=0.7607802874743327, total= 1.4min\n",
      "[CV] classifier__C=10, classifier__gamma=1 ...........................\n",
      "[CV]  classifier__C=10, classifier__gamma=1, score=0.756007393715342, total= 1.4min\n",
      "[CV] classifier__C=10, classifier__gamma=0.01 ........................\n",
      "[CV]  classifier__C=10, classifier__gamma=0.01, score=0.7250513347022587, total=  56.3s\n",
      "[CV] classifier__C=10, classifier__gamma=0.01 ........................\n",
      "[CV]  classifier__C=10, classifier__gamma=0.01, score=0.74435318275154, total=  57.0s\n",
      "[CV] classifier__C=10, classifier__gamma=0.01 ........................\n",
      "[CV]  classifier__C=10, classifier__gamma=0.01, score=0.7373177243787226, total=  55.5s\n",
      "[CV] classifier__C=10, classifier__gamma=0.1 .........................\n",
      "[CV]  classifier__C=10, classifier__gamma=0.1, score=0.7457905544147844, total=  57.8s\n",
      "[CV] classifier__C=10, classifier__gamma=0.1 .........................\n",
      "[CV]  classifier__C=10, classifier__gamma=0.1, score=0.7587268993839835, total=  58.6s\n",
      "[CV] classifier__C=10, classifier__gamma=0.1 .........................\n",
      "[CV]  classifier__C=10, classifier__gamma=0.1, score=0.7457383446292873, total=  58.7s\n",
      "[CV] classifier__C=10, classifier__gamma=0.05 ........................\n",
      "[CV]  classifier__C=10, classifier__gamma=0.05, score=0.7468172484599589, total=  57.5s\n",
      "[CV] classifier__C=10, classifier__gamma=0.05 ........................\n",
      "[CV]  classifier__C=10, classifier__gamma=0.05, score=0.7618069815195072, total=  56.2s\n",
      "[CV] classifier__C=10, classifier__gamma=0.05 ........................\n",
      "[CV]  classifier__C=10, classifier__gamma=0.05, score=0.7440952967755186, total=  55.3s\n",
      "[CV] classifier__C=20, classifier__gamma=1 ...........................\n",
      "[CV]  classifier__C=20, classifier__gamma=1, score=0.7480492813141684, total= 1.3min\n",
      "[CV] classifier__C=20, classifier__gamma=1 ...........................\n",
      "[CV]  classifier__C=20, classifier__gamma=1, score=0.7609856262833675, total= 1.4min\n",
      "[CV] classifier__C=20, classifier__gamma=1 ...........................\n",
      "[CV]  classifier__C=20, classifier__gamma=1, score=0.7555966317518997, total= 1.4min\n",
      "[CV] classifier__C=20, classifier__gamma=0.01 ........................\n",
      "[CV]  classifier__C=20, classifier__gamma=0.01, score=0.7351129363449692, total=  56.0s\n",
      "[CV] classifier__C=20, classifier__gamma=0.01 ........................\n",
      "[CV]  classifier__C=20, classifier__gamma=0.01, score=0.7542094455852156, total=  54.7s\n",
      "[CV] classifier__C=20, classifier__gamma=0.01 ........................\n",
      "[CV]  classifier__C=20, classifier__gamma=0.01, score=0.742863010885192, total=  54.7s\n",
      "[CV] classifier__C=20, classifier__gamma=0.1 .........................\n",
      "[CV]  classifier__C=20, classifier__gamma=0.1, score=0.7408624229979466, total= 1.1min\n",
      "[CV] classifier__C=20, classifier__gamma=0.1 .........................\n",
      "[CV]  classifier__C=20, classifier__gamma=0.1, score=0.7505133470225873, total= 1.2min\n",
      "[CV] classifier__C=20, classifier__gamma=0.1 .........................\n",
      "[CV]  classifier__C=20, classifier__gamma=0.1, score=0.7412199630314233, total= 1.1min\n",
      "[CV] classifier__C=20, classifier__gamma=0.05 ........................\n",
      "[CV]  classifier__C=20, classifier__gamma=0.05, score=0.7447638603696098, total=  57.3s\n",
      "[CV] classifier__C=20, classifier__gamma=0.05 ........................\n",
      "[CV]  classifier__C=20, classifier__gamma=0.05, score=0.7589322381930185, total=  58.2s\n",
      "[CV] classifier__C=20, classifier__gamma=0.05 ........................\n",
      "[CV]  classifier__C=20, classifier__gamma=0.05, score=0.7432737728486342, total=  58.2s\n",
      "[CV] classifier__C=15, classifier__gamma=1 ...........................\n",
      "[CV]  classifier__C=15, classifier__gamma=1, score=0.7482546201232033, total= 1.3min\n",
      "[CV] classifier__C=15, classifier__gamma=1 ...........................\n",
      "[CV]  classifier__C=15, classifier__gamma=1, score=0.7609856262833675, total= 1.4min\n",
      "[CV] classifier__C=15, classifier__gamma=1 ...........................\n",
      "[CV]  classifier__C=15, classifier__gamma=1, score=0.756007393715342, total= 1.4min\n",
      "[CV] classifier__C=15, classifier__gamma=0.01 ........................\n",
      "[CV]  classifier__C=15, classifier__gamma=0.01, score=0.7303901437371664, total=  55.1s\n",
      "[CV] classifier__C=15, classifier__gamma=0.01 ........................\n",
      "[CV]  classifier__C=15, classifier__gamma=0.01, score=0.7515400410677618, total=  56.5s\n",
      "[CV] classifier__C=15, classifier__gamma=0.01 ........................\n",
      "[CV]  classifier__C=15, classifier__gamma=0.01, score=0.7410145820497022, total=  55.7s\n",
      "[CV] classifier__C=15, classifier__gamma=0.1 .........................\n",
      "[CV]  classifier__C=15, classifier__gamma=0.1, score=0.744558521560575, total= 1.1min\n",
      "[CV] classifier__C=15, classifier__gamma=0.1 .........................\n",
      "[CV]  classifier__C=15, classifier__gamma=0.1, score=0.7562628336755647, total= 1.1min\n",
      "[CV] classifier__C=15, classifier__gamma=0.1 .........................\n",
      "[CV]  classifier__C=15, classifier__gamma=0.1, score=0.7420414869583076, total= 1.1min\n",
      "[CV] classifier__C=15, classifier__gamma=0.05 ........................\n",
      "[CV]  classifier__C=15, classifier__gamma=0.05, score=0.7490759753593429, total=  56.2s\n",
      "[CV] classifier__C=15, classifier__gamma=0.05 ........................\n",
      "[CV]  classifier__C=15, classifier__gamma=0.05, score=0.760164271047228, total=  56.7s\n",
      "[CV] classifier__C=15, classifier__gamma=0.05 ........................\n",
      "[CV]  classifier__C=15, classifier__gamma=0.05, score=0.7463544875744506, total=  56.1s\n"
     ]
    },
    {
     "name": "stderr",
     "output_type": "stream",
     "text": [
      "[Parallel(n_jobs=1)]: Done  48 out of  48 | elapsed: 78.6min finished\n"
     ]
    },
    {
     "data": {
      "text/plain": [
       "GridSearchCV(cv=None, error_score='raise',\n",
       "       estimator=Pipeline(memory=None,\n",
       "     steps=[('bow', CountVectorizer(analyzer=<function processor at 0x7f31a9e0c400>, binary=False,\n",
       "        decode_error='strict', dtype=<class 'numpy.int64'>,\n",
       "        encoding='utf-8', input='content', lowercase=True, max_df=1.0,\n",
       "        max_features=None, min_df=1, ngram_range=(1, 1), preprocessor=None,...,\n",
       "  max_iter=-1, probability=False, random_state=None, shrinking=True,\n",
       "  tol=0.001, verbose=False))]),\n",
       "       fit_params=None, iid=True, n_jobs=1,\n",
       "       param_grid={'classifier__C': [5, 10, 20, 15], 'classifier__gamma': [1, 0.01, 0.1, 0.05]},\n",
       "       pre_dispatch='2*n_jobs', refit=True, return_train_score='warn',\n",
       "       scoring='accuracy', verbose=3)"
      ]
     },
     "execution_count": 60,
     "metadata": {},
     "output_type": "execute_result"
    }
   ],
   "source": [
    "grid.fit(msg_train,label_train)"
   ]
  },
  {
   "cell_type": "code",
   "execution_count": 61,
   "metadata": {},
   "outputs": [
    {
     "data": {
      "text/plain": [
       "{'classifier__C': 15, 'classifier__gamma': 1}"
      ]
     },
     "execution_count": 61,
     "metadata": {},
     "output_type": "execute_result"
    }
   ],
   "source": [
    "grid.best_params_"
   ]
  },
  {
   "cell_type": "code",
   "execution_count": 62,
   "metadata": {},
   "outputs": [],
   "source": [
    "predictionz =grid.predict(msg_test)"
   ]
  },
  {
   "cell_type": "code",
   "execution_count": 63,
   "metadata": {},
   "outputs": [],
   "source": [
    "#predictionz = pipeline.predict(msg_test)"
   ]
  },
  {
   "cell_type": "code",
   "execution_count": 69,
   "metadata": {
    "scrolled": true
   },
   "outputs": [
    {
     "data": {
      "text/plain": [
       "array([1])"
      ]
     },
     "execution_count": 69,
     "metadata": {},
     "output_type": "execute_result"
    }
   ],
   "source": [
    "secret = [\"i like pussey\"]\n",
    "grid.predict(secret)\n"
   ]
  },
  {
   "cell_type": "code",
   "execution_count": null,
   "metadata": {},
   "outputs": [],
   "source": []
  },
  {
   "cell_type": "code",
   "execution_count": null,
   "metadata": {},
   "outputs": [],
   "source": []
  },
  {
   "cell_type": "code",
   "execution_count": null,
   "metadata": {
    "scrolled": true
   },
   "outputs": [],
   "source": []
  },
  {
   "cell_type": "code",
   "execution_count": null,
   "metadata": {},
   "outputs": [],
   "source": []
  },
  {
   "cell_type": "code",
   "execution_count": null,
   "metadata": {},
   "outputs": [],
   "source": []
  },
  {
   "cell_type": "code",
   "execution_count": null,
   "metadata": {},
   "outputs": [],
   "source": []
  },
  {
   "cell_type": "code",
   "execution_count": null,
   "metadata": {},
   "outputs": [],
   "source": []
  },
  {
   "cell_type": "code",
   "execution_count": null,
   "metadata": {},
   "outputs": [],
   "source": []
  },
  {
   "cell_type": "code",
   "execution_count": null,
   "metadata": {},
   "outputs": [],
   "source": []
  },
  {
   "cell_type": "code",
   "execution_count": null,
   "metadata": {},
   "outputs": [],
   "source": []
  },
  {
   "cell_type": "code",
   "execution_count": null,
   "metadata": {},
   "outputs": [],
   "source": []
  },
  {
   "cell_type": "code",
   "execution_count": null,
   "metadata": {},
   "outputs": [],
   "source": []
  },
  {
   "cell_type": "code",
   "execution_count": null,
   "metadata": {},
   "outputs": [],
   "source": []
  },
  {
   "cell_type": "code",
   "execution_count": null,
   "metadata": {},
   "outputs": [],
   "source": []
  }
 ],
 "metadata": {
  "kernelspec": {
   "display_name": "Python 3",
   "language": "python",
   "name": "python3"
  },
  "language_info": {
   "codemirror_mode": {
    "name": "ipython",
    "version": 3
   },
   "file_extension": ".py",
   "mimetype": "text/x-python",
   "name": "python",
   "nbconvert_exporter": "python",
   "pygments_lexer": "ipython3",
   "version": "3.4.3"
  }
 },
 "nbformat": 4,
 "nbformat_minor": 2
}
